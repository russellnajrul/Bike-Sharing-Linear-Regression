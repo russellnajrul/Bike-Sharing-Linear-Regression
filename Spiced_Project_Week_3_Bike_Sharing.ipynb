{
  "cells": [
    {
      "cell_type": "markdown",
      "metadata": {
        "id": "ea84e61b"
      },
      "source": [
        "# Data Dictionary"
      ],
      "id": "ea84e61b"
    },
    {
      "cell_type": "code",
      "execution_count": null,
      "metadata": {
        "colab": {
          "base_uri": "https://localhost:8080/"
        },
        "id": "7kqA_WHNsf7H",
        "outputId": "f9a0baac-b7e5-4ce4-b45f-63607447c2bf"
      },
      "outputs": [
        {
          "output_type": "stream",
          "name": "stdout",
          "text": [
            "Mounted at /content/drive/\n"
          ]
        }
      ],
      "source": [
        "from google.colab import drive\n",
        "drive.mount(\"/content/drive/\")"
      ],
      "id": "7kqA_WHNsf7H"
    },
    {
      "cell_type": "code",
      "execution_count": null,
      "metadata": {
        "id": "d548057f"
      },
      "outputs": [],
      "source": [
        "#Importing the libraries to load and manipulate the data\n",
        "import pandas as pd\n",
        "import numpy as np\n",
        "import seaborn as sns\n",
        "import matplotlib.pyplot as plt\n",
        "from sklearn.model_selection import train_test_split\n",
        "import warnings\n",
        "warnings.filterwarnings('ignore')\n",
        "from sklearn.preprocessing import LabelEncoder, OneHotEncoder\n",
        "# to check model performance\n",
        "from sklearn.metrics import mean_absolute_error, mean_squared_error, r2_score"
      ],
      "id": "d548057f"
    },
    {
      "cell_type": "code",
      "execution_count": null,
      "metadata": {
        "id": "3b1919b5"
      },
      "outputs": [],
      "source": [
        "from sklearn.ensemble import (\n",
        "    AdaBoostClassifier,\n",
        "    GradientBoostingClassifier,\n",
        "    RandomForestClassifier,\n",
        "    BaggingClassifier,\n",
        ")"
      ],
      "id": "3b1919b5"
    },
    {
      "cell_type": "code",
      "execution_count": null,
      "metadata": {
        "id": "c113f038"
      },
      "outputs": [],
      "source": [
        "from sklearn.linear_model import LinearRegression\n",
        "import missingno as msno"
      ],
      "id": "c113f038"
    },
    {
      "cell_type": "code",
      "execution_count": null,
      "metadata": {
        "id": "f812fe38"
      },
      "outputs": [],
      "source": [
        "#df_t=pd.read_csv(\"train_bike.csv\", parse_dates=True, index_col=0)\n",
        "#df_te=pd.read_csv(\"test_bike.csv\")"
      ],
      "id": "f812fe38"
    },
    {
      "cell_type": "code",
      "execution_count": null,
      "metadata": {
        "id": "4501ab49",
        "colab": {
          "base_uri": "https://localhost:8080/",
          "height": 311
        },
        "outputId": "d4fdd2ff-ef64-4e56-d4ac-eac7a5ae5aa1"
      },
      "outputs": [
        {
          "output_type": "error",
          "ename": "FileNotFoundError",
          "evalue": "ignored",
          "traceback": [
            "\u001b[0;31m---------------------------------------------------------------------------\u001b[0m",
            "\u001b[0;31mFileNotFoundError\u001b[0m                         Traceback (most recent call last)",
            "\u001b[0;32m<ipython-input-6-5466e8b768b1>\u001b[0m in \u001b[0;36m<module>\u001b[0;34m()\u001b[0m\n\u001b[0;32m----> 1\u001b[0;31m \u001b[0mdf_r\u001b[0m\u001b[0;34m=\u001b[0m\u001b[0mpd\u001b[0m\u001b[0;34m.\u001b[0m\u001b[0mread_csv\u001b[0m\u001b[0;34m(\u001b[0m\u001b[0;34m\"train_bike.csv\"\u001b[0m\u001b[0;34m)\u001b[0m\u001b[0;34m\u001b[0m\u001b[0;34m\u001b[0m\u001b[0m\n\u001b[0m",
            "\u001b[0;32m/usr/local/lib/python3.7/dist-packages/pandas/util/_decorators.py\u001b[0m in \u001b[0;36mwrapper\u001b[0;34m(*args, **kwargs)\u001b[0m\n\u001b[1;32m    309\u001b[0m                     \u001b[0mstacklevel\u001b[0m\u001b[0;34m=\u001b[0m\u001b[0mstacklevel\u001b[0m\u001b[0;34m,\u001b[0m\u001b[0;34m\u001b[0m\u001b[0;34m\u001b[0m\u001b[0m\n\u001b[1;32m    310\u001b[0m                 )\n\u001b[0;32m--> 311\u001b[0;31m             \u001b[0;32mreturn\u001b[0m \u001b[0mfunc\u001b[0m\u001b[0;34m(\u001b[0m\u001b[0;34m*\u001b[0m\u001b[0margs\u001b[0m\u001b[0;34m,\u001b[0m \u001b[0;34m**\u001b[0m\u001b[0mkwargs\u001b[0m\u001b[0;34m)\u001b[0m\u001b[0;34m\u001b[0m\u001b[0;34m\u001b[0m\u001b[0m\n\u001b[0m\u001b[1;32m    312\u001b[0m \u001b[0;34m\u001b[0m\u001b[0m\n\u001b[1;32m    313\u001b[0m         \u001b[0;32mreturn\u001b[0m \u001b[0mwrapper\u001b[0m\u001b[0;34m\u001b[0m\u001b[0;34m\u001b[0m\u001b[0m\n",
            "\u001b[0;32m/usr/local/lib/python3.7/dist-packages/pandas/io/parsers/readers.py\u001b[0m in \u001b[0;36mread_csv\u001b[0;34m(filepath_or_buffer, sep, delimiter, header, names, index_col, usecols, squeeze, prefix, mangle_dupe_cols, dtype, engine, converters, true_values, false_values, skipinitialspace, skiprows, skipfooter, nrows, na_values, keep_default_na, na_filter, verbose, skip_blank_lines, parse_dates, infer_datetime_format, keep_date_col, date_parser, dayfirst, cache_dates, iterator, chunksize, compression, thousands, decimal, lineterminator, quotechar, quoting, doublequote, escapechar, comment, encoding, encoding_errors, dialect, error_bad_lines, warn_bad_lines, on_bad_lines, delim_whitespace, low_memory, memory_map, float_precision, storage_options)\u001b[0m\n\u001b[1;32m    584\u001b[0m     \u001b[0mkwds\u001b[0m\u001b[0;34m.\u001b[0m\u001b[0mupdate\u001b[0m\u001b[0;34m(\u001b[0m\u001b[0mkwds_defaults\u001b[0m\u001b[0;34m)\u001b[0m\u001b[0;34m\u001b[0m\u001b[0;34m\u001b[0m\u001b[0m\n\u001b[1;32m    585\u001b[0m \u001b[0;34m\u001b[0m\u001b[0m\n\u001b[0;32m--> 586\u001b[0;31m     \u001b[0;32mreturn\u001b[0m \u001b[0m_read\u001b[0m\u001b[0;34m(\u001b[0m\u001b[0mfilepath_or_buffer\u001b[0m\u001b[0;34m,\u001b[0m \u001b[0mkwds\u001b[0m\u001b[0;34m)\u001b[0m\u001b[0;34m\u001b[0m\u001b[0;34m\u001b[0m\u001b[0m\n\u001b[0m\u001b[1;32m    587\u001b[0m \u001b[0;34m\u001b[0m\u001b[0m\n\u001b[1;32m    588\u001b[0m \u001b[0;34m\u001b[0m\u001b[0m\n",
            "\u001b[0;32m/usr/local/lib/python3.7/dist-packages/pandas/io/parsers/readers.py\u001b[0m in \u001b[0;36m_read\u001b[0;34m(filepath_or_buffer, kwds)\u001b[0m\n\u001b[1;32m    480\u001b[0m \u001b[0;34m\u001b[0m\u001b[0m\n\u001b[1;32m    481\u001b[0m     \u001b[0;31m# Create the parser.\u001b[0m\u001b[0;34m\u001b[0m\u001b[0;34m\u001b[0m\u001b[0;34m\u001b[0m\u001b[0m\n\u001b[0;32m--> 482\u001b[0;31m     \u001b[0mparser\u001b[0m \u001b[0;34m=\u001b[0m \u001b[0mTextFileReader\u001b[0m\u001b[0;34m(\u001b[0m\u001b[0mfilepath_or_buffer\u001b[0m\u001b[0;34m,\u001b[0m \u001b[0;34m**\u001b[0m\u001b[0mkwds\u001b[0m\u001b[0;34m)\u001b[0m\u001b[0;34m\u001b[0m\u001b[0;34m\u001b[0m\u001b[0m\n\u001b[0m\u001b[1;32m    483\u001b[0m \u001b[0;34m\u001b[0m\u001b[0m\n\u001b[1;32m    484\u001b[0m     \u001b[0;32mif\u001b[0m \u001b[0mchunksize\u001b[0m \u001b[0;32mor\u001b[0m \u001b[0miterator\u001b[0m\u001b[0;34m:\u001b[0m\u001b[0;34m\u001b[0m\u001b[0;34m\u001b[0m\u001b[0m\n",
            "\u001b[0;32m/usr/local/lib/python3.7/dist-packages/pandas/io/parsers/readers.py\u001b[0m in \u001b[0;36m__init__\u001b[0;34m(self, f, engine, **kwds)\u001b[0m\n\u001b[1;32m    809\u001b[0m             \u001b[0mself\u001b[0m\u001b[0;34m.\u001b[0m\u001b[0moptions\u001b[0m\u001b[0;34m[\u001b[0m\u001b[0;34m\"has_index_names\"\u001b[0m\u001b[0;34m]\u001b[0m \u001b[0;34m=\u001b[0m \u001b[0mkwds\u001b[0m\u001b[0;34m[\u001b[0m\u001b[0;34m\"has_index_names\"\u001b[0m\u001b[0;34m]\u001b[0m\u001b[0;34m\u001b[0m\u001b[0;34m\u001b[0m\u001b[0m\n\u001b[1;32m    810\u001b[0m \u001b[0;34m\u001b[0m\u001b[0m\n\u001b[0;32m--> 811\u001b[0;31m         \u001b[0mself\u001b[0m\u001b[0;34m.\u001b[0m\u001b[0m_engine\u001b[0m \u001b[0;34m=\u001b[0m \u001b[0mself\u001b[0m\u001b[0;34m.\u001b[0m\u001b[0m_make_engine\u001b[0m\u001b[0;34m(\u001b[0m\u001b[0mself\u001b[0m\u001b[0;34m.\u001b[0m\u001b[0mengine\u001b[0m\u001b[0;34m)\u001b[0m\u001b[0;34m\u001b[0m\u001b[0;34m\u001b[0m\u001b[0m\n\u001b[0m\u001b[1;32m    812\u001b[0m \u001b[0;34m\u001b[0m\u001b[0m\n\u001b[1;32m    813\u001b[0m     \u001b[0;32mdef\u001b[0m \u001b[0mclose\u001b[0m\u001b[0;34m(\u001b[0m\u001b[0mself\u001b[0m\u001b[0;34m)\u001b[0m\u001b[0;34m:\u001b[0m\u001b[0;34m\u001b[0m\u001b[0;34m\u001b[0m\u001b[0m\n",
            "\u001b[0;32m/usr/local/lib/python3.7/dist-packages/pandas/io/parsers/readers.py\u001b[0m in \u001b[0;36m_make_engine\u001b[0;34m(self, engine)\u001b[0m\n\u001b[1;32m   1038\u001b[0m             )\n\u001b[1;32m   1039\u001b[0m         \u001b[0;31m# error: Too many arguments for \"ParserBase\"\u001b[0m\u001b[0;34m\u001b[0m\u001b[0;34m\u001b[0m\u001b[0;34m\u001b[0m\u001b[0m\n\u001b[0;32m-> 1040\u001b[0;31m         \u001b[0;32mreturn\u001b[0m \u001b[0mmapping\u001b[0m\u001b[0;34m[\u001b[0m\u001b[0mengine\u001b[0m\u001b[0;34m]\u001b[0m\u001b[0;34m(\u001b[0m\u001b[0mself\u001b[0m\u001b[0;34m.\u001b[0m\u001b[0mf\u001b[0m\u001b[0;34m,\u001b[0m \u001b[0;34m**\u001b[0m\u001b[0mself\u001b[0m\u001b[0;34m.\u001b[0m\u001b[0moptions\u001b[0m\u001b[0;34m)\u001b[0m  \u001b[0;31m# type: ignore[call-arg]\u001b[0m\u001b[0;34m\u001b[0m\u001b[0;34m\u001b[0m\u001b[0m\n\u001b[0m\u001b[1;32m   1041\u001b[0m \u001b[0;34m\u001b[0m\u001b[0m\n\u001b[1;32m   1042\u001b[0m     \u001b[0;32mdef\u001b[0m \u001b[0m_failover_to_python\u001b[0m\u001b[0;34m(\u001b[0m\u001b[0mself\u001b[0m\u001b[0;34m)\u001b[0m\u001b[0;34m:\u001b[0m\u001b[0;34m\u001b[0m\u001b[0;34m\u001b[0m\u001b[0m\n",
            "\u001b[0;32m/usr/local/lib/python3.7/dist-packages/pandas/io/parsers/c_parser_wrapper.py\u001b[0m in \u001b[0;36m__init__\u001b[0;34m(self, src, **kwds)\u001b[0m\n\u001b[1;32m     49\u001b[0m \u001b[0;34m\u001b[0m\u001b[0m\n\u001b[1;32m     50\u001b[0m         \u001b[0;31m# open handles\u001b[0m\u001b[0;34m\u001b[0m\u001b[0;34m\u001b[0m\u001b[0;34m\u001b[0m\u001b[0m\n\u001b[0;32m---> 51\u001b[0;31m         \u001b[0mself\u001b[0m\u001b[0;34m.\u001b[0m\u001b[0m_open_handles\u001b[0m\u001b[0;34m(\u001b[0m\u001b[0msrc\u001b[0m\u001b[0;34m,\u001b[0m \u001b[0mkwds\u001b[0m\u001b[0;34m)\u001b[0m\u001b[0;34m\u001b[0m\u001b[0;34m\u001b[0m\u001b[0m\n\u001b[0m\u001b[1;32m     52\u001b[0m         \u001b[0;32massert\u001b[0m \u001b[0mself\u001b[0m\u001b[0;34m.\u001b[0m\u001b[0mhandles\u001b[0m \u001b[0;32mis\u001b[0m \u001b[0;32mnot\u001b[0m \u001b[0;32mNone\u001b[0m\u001b[0;34m\u001b[0m\u001b[0;34m\u001b[0m\u001b[0m\n\u001b[1;32m     53\u001b[0m \u001b[0;34m\u001b[0m\u001b[0m\n",
            "\u001b[0;32m/usr/local/lib/python3.7/dist-packages/pandas/io/parsers/base_parser.py\u001b[0m in \u001b[0;36m_open_handles\u001b[0;34m(self, src, kwds)\u001b[0m\n\u001b[1;32m    227\u001b[0m             \u001b[0mmemory_map\u001b[0m\u001b[0;34m=\u001b[0m\u001b[0mkwds\u001b[0m\u001b[0;34m.\u001b[0m\u001b[0mget\u001b[0m\u001b[0;34m(\u001b[0m\u001b[0;34m\"memory_map\"\u001b[0m\u001b[0;34m,\u001b[0m \u001b[0;32mFalse\u001b[0m\u001b[0;34m)\u001b[0m\u001b[0;34m,\u001b[0m\u001b[0;34m\u001b[0m\u001b[0;34m\u001b[0m\u001b[0m\n\u001b[1;32m    228\u001b[0m             \u001b[0mstorage_options\u001b[0m\u001b[0;34m=\u001b[0m\u001b[0mkwds\u001b[0m\u001b[0;34m.\u001b[0m\u001b[0mget\u001b[0m\u001b[0;34m(\u001b[0m\u001b[0;34m\"storage_options\"\u001b[0m\u001b[0;34m,\u001b[0m \u001b[0;32mNone\u001b[0m\u001b[0;34m)\u001b[0m\u001b[0;34m,\u001b[0m\u001b[0;34m\u001b[0m\u001b[0;34m\u001b[0m\u001b[0m\n\u001b[0;32m--> 229\u001b[0;31m             \u001b[0merrors\u001b[0m\u001b[0;34m=\u001b[0m\u001b[0mkwds\u001b[0m\u001b[0;34m.\u001b[0m\u001b[0mget\u001b[0m\u001b[0;34m(\u001b[0m\u001b[0;34m\"encoding_errors\"\u001b[0m\u001b[0;34m,\u001b[0m \u001b[0;34m\"strict\"\u001b[0m\u001b[0;34m)\u001b[0m\u001b[0;34m,\u001b[0m\u001b[0;34m\u001b[0m\u001b[0;34m\u001b[0m\u001b[0m\n\u001b[0m\u001b[1;32m    230\u001b[0m         )\n\u001b[1;32m    231\u001b[0m \u001b[0;34m\u001b[0m\u001b[0m\n",
            "\u001b[0;32m/usr/local/lib/python3.7/dist-packages/pandas/io/common.py\u001b[0m in \u001b[0;36mget_handle\u001b[0;34m(path_or_buf, mode, encoding, compression, memory_map, is_text, errors, storage_options)\u001b[0m\n\u001b[1;32m    705\u001b[0m                 \u001b[0mencoding\u001b[0m\u001b[0;34m=\u001b[0m\u001b[0mioargs\u001b[0m\u001b[0;34m.\u001b[0m\u001b[0mencoding\u001b[0m\u001b[0;34m,\u001b[0m\u001b[0;34m\u001b[0m\u001b[0;34m\u001b[0m\u001b[0m\n\u001b[1;32m    706\u001b[0m                 \u001b[0merrors\u001b[0m\u001b[0;34m=\u001b[0m\u001b[0merrors\u001b[0m\u001b[0;34m,\u001b[0m\u001b[0;34m\u001b[0m\u001b[0;34m\u001b[0m\u001b[0m\n\u001b[0;32m--> 707\u001b[0;31m                 \u001b[0mnewline\u001b[0m\u001b[0;34m=\u001b[0m\u001b[0;34m\"\"\u001b[0m\u001b[0;34m,\u001b[0m\u001b[0;34m\u001b[0m\u001b[0;34m\u001b[0m\u001b[0m\n\u001b[0m\u001b[1;32m    708\u001b[0m             )\n\u001b[1;32m    709\u001b[0m         \u001b[0;32melse\u001b[0m\u001b[0;34m:\u001b[0m\u001b[0;34m\u001b[0m\u001b[0;34m\u001b[0m\u001b[0m\n",
            "\u001b[0;31mFileNotFoundError\u001b[0m: [Errno 2] No such file or directory: 'train_bike.csv'"
          ]
        }
      ],
      "source": [
        "df_r=pd.read_csv(\"train_bike.csv\")"
      ],
      "id": "4501ab49"
    },
    {
      "cell_type": "code",
      "execution_count": null,
      "metadata": {
        "id": "fbb8d6f2"
      },
      "outputs": [],
      "source": [
        "df=df_r.copy()"
      ],
      "id": "fbb8d6f2"
    },
    {
      "cell_type": "code",
      "execution_count": null,
      "metadata": {
        "id": "ac6b167a"
      },
      "outputs": [],
      "source": [
        "pd.set_option('display.max_columns', None)\n",
        "pd.set_option('display.max_rows', 200)"
      ],
      "id": "ac6b167a"
    },
    {
      "cell_type": "code",
      "execution_count": null,
      "metadata": {
        "id": "aef2672d"
      },
      "outputs": [],
      "source": [
        "np.random.seed(42)"
      ],
      "id": "aef2672d"
    },
    {
      "cell_type": "code",
      "execution_count": null,
      "metadata": {
        "id": "d15fb2da",
        "outputId": "e08a78eb-b539-4617-9f1d-4c0690a86e93"
      },
      "outputs": [
        {
          "data": {
            "text/html": [
              "<div>\n",
              "<style scoped>\n",
              "    .dataframe tbody tr th:only-of-type {\n",
              "        vertical-align: middle;\n",
              "    }\n",
              "\n",
              "    .dataframe tbody tr th {\n",
              "        vertical-align: top;\n",
              "    }\n",
              "\n",
              "    .dataframe thead th {\n",
              "        text-align: right;\n",
              "    }\n",
              "</style>\n",
              "<table border=\"1\" class=\"dataframe\">\n",
              "  <thead>\n",
              "    <tr style=\"text-align: right;\">\n",
              "      <th></th>\n",
              "      <th>datetime</th>\n",
              "      <th>season</th>\n",
              "      <th>holiday</th>\n",
              "      <th>workingday</th>\n",
              "      <th>weather</th>\n",
              "      <th>temp</th>\n",
              "      <th>atemp</th>\n",
              "      <th>humidity</th>\n",
              "      <th>windspeed</th>\n",
              "      <th>casual</th>\n",
              "      <th>registered</th>\n",
              "      <th>count</th>\n",
              "    </tr>\n",
              "  </thead>\n",
              "  <tbody>\n",
              "    <tr>\n",
              "      <th>0</th>\n",
              "      <td>2011-01-01 00:00:00</td>\n",
              "      <td>1</td>\n",
              "      <td>0</td>\n",
              "      <td>0</td>\n",
              "      <td>1</td>\n",
              "      <td>9.84</td>\n",
              "      <td>14.395</td>\n",
              "      <td>81</td>\n",
              "      <td>0.0</td>\n",
              "      <td>3</td>\n",
              "      <td>13</td>\n",
              "      <td>16</td>\n",
              "    </tr>\n",
              "    <tr>\n",
              "      <th>1</th>\n",
              "      <td>2011-01-01 01:00:00</td>\n",
              "      <td>1</td>\n",
              "      <td>0</td>\n",
              "      <td>0</td>\n",
              "      <td>1</td>\n",
              "      <td>9.02</td>\n",
              "      <td>13.635</td>\n",
              "      <td>80</td>\n",
              "      <td>0.0</td>\n",
              "      <td>8</td>\n",
              "      <td>32</td>\n",
              "      <td>40</td>\n",
              "    </tr>\n",
              "    <tr>\n",
              "      <th>2</th>\n",
              "      <td>2011-01-01 02:00:00</td>\n",
              "      <td>1</td>\n",
              "      <td>0</td>\n",
              "      <td>0</td>\n",
              "      <td>1</td>\n",
              "      <td>9.02</td>\n",
              "      <td>13.635</td>\n",
              "      <td>80</td>\n",
              "      <td>0.0</td>\n",
              "      <td>5</td>\n",
              "      <td>27</td>\n",
              "      <td>32</td>\n",
              "    </tr>\n",
              "    <tr>\n",
              "      <th>3</th>\n",
              "      <td>2011-01-01 03:00:00</td>\n",
              "      <td>1</td>\n",
              "      <td>0</td>\n",
              "      <td>0</td>\n",
              "      <td>1</td>\n",
              "      <td>9.84</td>\n",
              "      <td>14.395</td>\n",
              "      <td>75</td>\n",
              "      <td>0.0</td>\n",
              "      <td>3</td>\n",
              "      <td>10</td>\n",
              "      <td>13</td>\n",
              "    </tr>\n",
              "    <tr>\n",
              "      <th>4</th>\n",
              "      <td>2011-01-01 04:00:00</td>\n",
              "      <td>1</td>\n",
              "      <td>0</td>\n",
              "      <td>0</td>\n",
              "      <td>1</td>\n",
              "      <td>9.84</td>\n",
              "      <td>14.395</td>\n",
              "      <td>75</td>\n",
              "      <td>0.0</td>\n",
              "      <td>0</td>\n",
              "      <td>1</td>\n",
              "      <td>1</td>\n",
              "    </tr>\n",
              "  </tbody>\n",
              "</table>\n",
              "</div>"
            ],
            "text/plain": [
              "              datetime  season  holiday  workingday  weather  temp   atemp  \\\n",
              "0  2011-01-01 00:00:00       1        0           0        1  9.84  14.395   \n",
              "1  2011-01-01 01:00:00       1        0           0        1  9.02  13.635   \n",
              "2  2011-01-01 02:00:00       1        0           0        1  9.02  13.635   \n",
              "3  2011-01-01 03:00:00       1        0           0        1  9.84  14.395   \n",
              "4  2011-01-01 04:00:00       1        0           0        1  9.84  14.395   \n",
              "\n",
              "   humidity  windspeed  casual  registered  count  \n",
              "0        81        0.0       3          13     16  \n",
              "1        80        0.0       8          32     40  \n",
              "2        80        0.0       5          27     32  \n",
              "3        75        0.0       3          10     13  \n",
              "4        75        0.0       0           1      1  "
            ]
          },
          "execution_count": 8,
          "metadata": {},
          "output_type": "execute_result"
        }
      ],
      "source": [
        "df.head()"
      ],
      "id": "d15fb2da"
    },
    {
      "cell_type": "code",
      "execution_count": null,
      "metadata": {
        "id": "c82baa8e",
        "outputId": "a9eb4603-6386-46de-daba-b141b2191206"
      },
      "outputs": [
        {
          "name": "stdout",
          "output_type": "stream",
          "text": [
            "There are 10886 Rows and 12 columns\n"
          ]
        }
      ],
      "source": [
        "print(f'There are {df.shape[0]} Rows and {df.shape[1]} columns')"
      ],
      "id": "c82baa8e"
    },
    {
      "cell_type": "code",
      "execution_count": null,
      "metadata": {
        "id": "4a4c5745",
        "outputId": "ce9f4f86-1dbf-4985-d04f-0407f266a0bd"
      },
      "outputs": [
        {
          "data": {
            "text/plain": [
              "datetime      0\n",
              "season        0\n",
              "holiday       0\n",
              "workingday    0\n",
              "weather       0\n",
              "temp          0\n",
              "atemp         0\n",
              "humidity      0\n",
              "windspeed     0\n",
              "casual        0\n",
              "registered    0\n",
              "count         0\n",
              "dtype: int64"
            ]
          },
          "execution_count": 10,
          "metadata": {},
          "output_type": "execute_result"
        }
      ],
      "source": [
        "df.isnull().sum().sort_values(ascending=False)"
      ],
      "id": "4a4c5745"
    },
    {
      "cell_type": "code",
      "execution_count": null,
      "metadata": {
        "id": "cbe28ca7",
        "outputId": "b9471127-8cc2-4e6b-8cbf-50bd41a20ead"
      },
      "outputs": [
        {
          "data": {
            "text/plain": [
              "0"
            ]
          },
          "execution_count": 11,
          "metadata": {},
          "output_type": "execute_result"
        }
      ],
      "source": [
        "df.duplicated().sum()"
      ],
      "id": "cbe28ca7"
    },
    {
      "cell_type": "markdown",
      "metadata": {
        "id": "f3f9ba00"
      },
      "source": [
        "- There are no duplicated values"
      ],
      "id": "f3f9ba00"
    },
    {
      "cell_type": "code",
      "execution_count": null,
      "metadata": {
        "id": "8a617ab2"
      },
      "outputs": [],
      "source": [
        "# checking the value_counts for few columns which look like categorical variables "
      ],
      "id": "8a617ab2"
    },
    {
      "cell_type": "code",
      "execution_count": null,
      "metadata": {
        "id": "2ab765da",
        "outputId": "07186865-1435-4bdf-a675-41927f142541"
      },
      "outputs": [
        {
          "name": "stdout",
          "output_type": "stream",
          "text": [
            "4    2734\n",
            "2    2733\n",
            "3    2733\n",
            "1    2686\n",
            "Name: season, dtype: int64\n",
            "------------------------------\n",
            "0    10575\n",
            "1      311\n",
            "Name: holiday, dtype: int64\n",
            "------------------------------\n",
            "1    7412\n",
            "0    3474\n",
            "Name: workingday, dtype: int64\n",
            "------------------------------\n",
            "1    7192\n",
            "2    2834\n",
            "3     859\n",
            "4       1\n",
            "Name: weather, dtype: int64\n",
            "------------------------------\n"
          ]
        }
      ],
      "source": [
        "cat_cols=['season','holiday','workingday','weather']\n",
        "\n",
        "for column in cat_cols:\n",
        "    print(df[column].value_counts())\n",
        "    print('-'*30)"
      ],
      "id": "2ab765da"
    },
    {
      "cell_type": "code",
      "execution_count": null,
      "metadata": {
        "id": "06cc3545"
      },
      "outputs": [],
      "source": [
        "#converting the season and weather columns values in meaningful categories\n",
        "season_type ={1: 'Spring', 2:'Summer', 3:'Fall', 4:'Winter'}\n",
        "weather_type = {1: 'Good', 2: 'Gloomy', 3: 'Light Snow/Rain', 4: 'Heavy Snow/Rain'}"
      ],
      "id": "06cc3545"
    },
    {
      "cell_type": "code",
      "execution_count": null,
      "metadata": {
        "id": "bd9363fe"
      },
      "outputs": [],
      "source": [
        "df['season'] = df['season'].map(season_type)\n",
        "df['weather'] = df['weather'].map(weather_type)"
      ],
      "id": "bd9363fe"
    },
    {
      "cell_type": "code",
      "execution_count": null,
      "metadata": {
        "id": "5550de96"
      },
      "outputs": [],
      "source": [
        "#Changing the the columsn into categories\n",
        "cat_cols=['season', 'weather', 'holiday', 'workingday']\n",
        "df[cat_cols] = df[cat_cols].astype('category')"
      ],
      "id": "5550de96"
    },
    {
      "cell_type": "markdown",
      "metadata": {
        "id": "1d896957"
      },
      "source": [
        "# Exploratory Data Analysis"
      ],
      "id": "1d896957"
    },
    {
      "cell_type": "code",
      "execution_count": null,
      "metadata": {
        "id": "5d16dff7"
      },
      "outputs": [],
      "source": [
        "count_cols=['temp', 'atemp','humidity', 'windspeed', 'casual', 'registered']\n",
        "for column in count_cols:\n",
        "    plt.figure(figsize=(15,7))\n",
        "    sns.distplot(df[column])\n",
        "    plt.show()"
      ],
      "id": "5d16dff7"
    },
    {
      "cell_type": "code",
      "execution_count": null,
      "metadata": {
        "id": "e4b8b88a"
      },
      "outputs": [],
      "source": [
        "for column in count_cols:\n",
        "    plt.figure(figsize=(15,7))\n",
        "    sns.boxplot(df[column])\n",
        "    plt.show()"
      ],
      "id": "e4b8b88a"
    },
    {
      "cell_type": "code",
      "execution_count": null,
      "metadata": {
        "id": "0e53c62f"
      },
      "outputs": [],
      "source": [
        "for column in cat_cols:\n",
        "    plt.figure(figsize=(12,7))\n",
        "    sns.countplot(df[column])\n",
        "    plt.show()"
      ],
      "id": "0e53c62f"
    },
    {
      "cell_type": "code",
      "execution_count": null,
      "metadata": {
        "id": "5b6f8b80"
      },
      "outputs": [],
      "source": [
        "#df[cat_cols]=df[cat_cols].astype('category')"
      ],
      "id": "5b6f8b80"
    },
    {
      "cell_type": "code",
      "execution_count": null,
      "metadata": {
        "id": "1fc5075b"
      },
      "outputs": [],
      "source": [
        "df.index.year"
      ],
      "id": "1fc5075b"
    },
    {
      "cell_type": "code",
      "execution_count": null,
      "metadata": {
        "id": "05b1c2dc"
      },
      "outputs": [],
      "source": [
        "df['day']=df.index.day_name()"
      ],
      "id": "05b1c2dc"
    },
    {
      "cell_type": "code",
      "execution_count": null,
      "metadata": {
        "id": "2414781b"
      },
      "outputs": [],
      "source": [
        "import datetime"
      ],
      "id": "2414781b"
    },
    {
      "cell_type": "code",
      "execution_count": null,
      "metadata": {
        "id": "dfeda21b"
      },
      "outputs": [],
      "source": [
        "df['temp'].rolling(72).mean().plot()"
      ],
      "id": "dfeda21b"
    },
    {
      "cell_type": "code",
      "execution_count": null,
      "metadata": {
        "id": "fdd6f662"
      },
      "outputs": [],
      "source": [
        "dr=pd.date_range(start='01/01/2011', periods=20)"
      ],
      "id": "fdd6f662"
    },
    {
      "cell_type": "code",
      "execution_count": null,
      "metadata": {
        "id": "18e12215",
        "outputId": "92f7fff5-c12f-4931-afb4-e30741a39012"
      },
      "outputs": [
        {
          "data": {
            "image/png": "[encoded data removed]",
            "text/plain": [
              "<Figure size 1080x504 with 2 Axes>"
            ]
          },
          "metadata": {},
          "output_type": "display_data"
        }
      ],
      "source": [
        "plt.figure(figsize=(15,7))\n",
        "sns.heatmap(df.corr(), vmax=1, vmin=-1, annot=True, cmap='autumn_r', fmt='.2f')\n",
        "plt.show()"
      ],
      "id": "18e12215"
    },
    {
      "cell_type": "markdown",
      "metadata": {
        "id": "5a1b5ff2"
      },
      "source": [
        "- registerd and count has good positive relationship\n",
        "- casual and count has mode relationship\n",
        "- temp and atemp are highly correlated and I would remove one variable, specially I would remove temp variable because feel tempareature is more important than actual temp"
      ],
      "id": "5a1b5ff2"
    },
    {
      "cell_type": "code",
      "execution_count": null,
      "metadata": {
        "id": "cd1353d8"
      },
      "outputs": [],
      "source": [
        "drop_col = ['registered', 'casual']"
      ],
      "id": "cd1353d8"
    },
    {
      "cell_type": "code",
      "execution_count": null,
      "metadata": {
        "id": "0cd9dd60"
      },
      "outputs": [],
      "source": [
        "df=df.drop(drop_col, axis=1)"
      ],
      "id": "0cd9dd60"
    },
    {
      "cell_type": "code",
      "execution_count": null,
      "metadata": {
        "id": "2e481eb5"
      },
      "outputs": [],
      "source": [
        "df=df.drop('datetime', axis=1)"
      ],
      "id": "2e481eb5"
    },
    {
      "cell_type": "code",
      "execution_count": null,
      "metadata": {
        "id": "f17696ae",
        "outputId": "92d4e034-58ec-4487-e55f-e74603e27f88"
      },
      "outputs": [
        {
          "data": {
            "text/html": [
              "<div>\n",
              "<style scoped>\n",
              "    .dataframe tbody tr th:only-of-type {\n",
              "        vertical-align: middle;\n",
              "    }\n",
              "\n",
              "    .dataframe tbody tr th {\n",
              "        vertical-align: top;\n",
              "    }\n",
              "\n",
              "    .dataframe thead th {\n",
              "        text-align: right;\n",
              "    }\n",
              "</style>\n",
              "<table border=\"1\" class=\"dataframe\">\n",
              "  <thead>\n",
              "    <tr style=\"text-align: right;\">\n",
              "      <th></th>\n",
              "      <th>season</th>\n",
              "      <th>holiday</th>\n",
              "      <th>workingday</th>\n",
              "      <th>weather</th>\n",
              "      <th>atemp</th>\n",
              "      <th>humidity</th>\n",
              "      <th>windspeed</th>\n",
              "      <th>count</th>\n",
              "    </tr>\n",
              "  </thead>\n",
              "  <tbody>\n",
              "    <tr>\n",
              "      <th>0</th>\n",
              "      <td>Spring</td>\n",
              "      <td>0</td>\n",
              "      <td>0</td>\n",
              "      <td>Good</td>\n",
              "      <td>14.395</td>\n",
              "      <td>81</td>\n",
              "      <td>0.0</td>\n",
              "      <td>16</td>\n",
              "    </tr>\n",
              "    <tr>\n",
              "      <th>1</th>\n",
              "      <td>Spring</td>\n",
              "      <td>0</td>\n",
              "      <td>0</td>\n",
              "      <td>Good</td>\n",
              "      <td>13.635</td>\n",
              "      <td>80</td>\n",
              "      <td>0.0</td>\n",
              "      <td>40</td>\n",
              "    </tr>\n",
              "    <tr>\n",
              "      <th>2</th>\n",
              "      <td>Spring</td>\n",
              "      <td>0</td>\n",
              "      <td>0</td>\n",
              "      <td>Good</td>\n",
              "      <td>13.635</td>\n",
              "      <td>80</td>\n",
              "      <td>0.0</td>\n",
              "      <td>32</td>\n",
              "    </tr>\n",
              "    <tr>\n",
              "      <th>3</th>\n",
              "      <td>Spring</td>\n",
              "      <td>0</td>\n",
              "      <td>0</td>\n",
              "      <td>Good</td>\n",
              "      <td>14.395</td>\n",
              "      <td>75</td>\n",
              "      <td>0.0</td>\n",
              "      <td>13</td>\n",
              "    </tr>\n",
              "    <tr>\n",
              "      <th>4</th>\n",
              "      <td>Spring</td>\n",
              "      <td>0</td>\n",
              "      <td>0</td>\n",
              "      <td>Good</td>\n",
              "      <td>14.395</td>\n",
              "      <td>75</td>\n",
              "      <td>0.0</td>\n",
              "      <td>1</td>\n",
              "    </tr>\n",
              "  </tbody>\n",
              "</table>\n",
              "</div>"
            ],
            "text/plain": [
              "   season holiday workingday weather   atemp  humidity  windspeed  count\n",
              "0  Spring       0          0    Good  14.395        81        0.0     16\n",
              "1  Spring       0          0    Good  13.635        80        0.0     40\n",
              "2  Spring       0          0    Good  13.635        80        0.0     32\n",
              "3  Spring       0          0    Good  14.395        75        0.0     13\n",
              "4  Spring       0          0    Good  14.395        75        0.0      1"
            ]
          },
          "execution_count": 71,
          "metadata": {},
          "output_type": "execute_result"
        }
      ],
      "source": [
        "df.head()"
      ],
      "id": "f17696ae"
    },
    {
      "cell_type": "code",
      "execution_count": null,
      "metadata": {
        "id": "b48d7982"
      },
      "outputs": [],
      "source": [
        "sns.scatterplot(data=df, x=\"registered\", y=\"count\", legend=\"full\")"
      ],
      "id": "b48d7982"
    },
    {
      "cell_type": "code",
      "execution_count": null,
      "metadata": {
        "id": "daaff1aa"
      },
      "outputs": [],
      "source": [
        "sns.scatterplot(data=df, x=\"casual\", y=\"count\", legend=\"full\")"
      ],
      "id": "daaff1aa"
    },
    {
      "cell_type": "markdown",
      "metadata": {
        "id": "e7a8091e"
      },
      "source": [
        "- There are 7 percent of outliers in casual data. However, as there are no error, these should not considered as outliers, rather these are natural data"
      ],
      "id": "e7a8091e"
    },
    {
      "cell_type": "markdown",
      "metadata": {
        "id": "69d9725b"
      },
      "source": [
        "- recommendations:\n",
        "- try to configure to make the realtionship with the weather pattern and changes in counts\n",
        "- there are three dependent variables, isn't better one\n",
        "- differentiate between work day and holiday or weekend\n",
        "- hourly trend\n",
        "- outliers are natural, not due to errors, so log transformation is used to treat\n",
        "- daily trend\n",
        "- check demand over year\n",
        "- creating new variable, hour bins\n",
        "- day bins, temp bins\n",
        "- day type, weekend, holiday, weekday\n",
        "- polynomial features"
      ],
      "id": "69d9725b"
    },
    {
      "cell_type": "code",
      "execution_count": null,
      "metadata": {
        "id": "7bacd415"
      },
      "outputs": [],
      "source": [
        "#putting test data in categorical\n",
        "#testdata['season'] = testdata['season'].map(season_dict)\n",
        "#testdata['weather'] = testdata['weather'].map(weather_dict)"
      ],
      "id": "7bacd415"
    },
    {
      "cell_type": "code",
      "execution_count": null,
      "metadata": {
        "id": "aad61c87"
      },
      "outputs": [],
      "source": [
        "msno.matrix(df)"
      ],
      "id": "aad61c87"
    },
    {
      "cell_type": "code",
      "execution_count": null,
      "metadata": {
        "id": "7ac243cb"
      },
      "outputs": [],
      "source": [
        "df_wd1 = df[df.workingday == 1]\n",
        "\n",
        "df_wd0 = df[df.workingday == 0]\n"
      ],
      "id": "7ac243cb"
    },
    {
      "cell_type": "code",
      "execution_count": null,
      "metadata": {
        "id": "c95b0273"
      },
      "outputs": [],
      "source": [
        "df_wd1.columns"
      ],
      "id": "c95b0273"
    },
    {
      "cell_type": "code",
      "execution_count": null,
      "metadata": {
        "id": "56738189"
      },
      "outputs": [],
      "source": [
        "bin_size = 4\n",
        "df_wd1['temp'] = df_wd1['temp']//bin_size\n",
        "df_wd0['temp'] = df_wd0['temp']//bin_size"
      ],
      "id": "56738189"
    },
    {
      "cell_type": "code",
      "execution_count": null,
      "metadata": {
        "id": "fbd87ea7"
      },
      "outputs": [],
      "source": [
        "df_wd1.groupby('temp')['count', 'workingday'].mean()"
      ],
      "id": "fbd87ea7"
    },
    {
      "cell_type": "code",
      "execution_count": null,
      "metadata": {
        "id": "d3684e1d"
      },
      "outputs": [],
      "source": [
        "df_wd1_gb"
      ],
      "id": "d3684e1d"
    },
    {
      "cell_type": "code",
      "execution_count": null,
      "metadata": {
        "id": "631345fe"
      },
      "outputs": [],
      "source": [
        "df_gb = df.groupby('temp')['weather', 'season']\n",
        "df_gb"
      ],
      "id": "631345fe"
    },
    {
      "cell_type": "code",
      "execution_count": null,
      "metadata": {
        "id": "157e5797"
      },
      "outputs": [],
      "source": [
        "for i, subframes in df_gb:\n",
        "    print(i), \n",
        "    print(subframes),\n",
        "    print('\\n')"
      ],
      "id": "157e5797"
    },
    {
      "cell_type": "code",
      "execution_count": null,
      "metadata": {
        "id": "63fcfe3f"
      },
      "outputs": [],
      "source": [
        "df.head()"
      ],
      "id": "63fcfe3f"
    },
    {
      "cell_type": "code",
      "execution_count": null,
      "metadata": {
        "id": "61a44311"
      },
      "outputs": [],
      "source": [
        "df['temp'].describe()"
      ],
      "id": "61a44311"
    },
    {
      "cell_type": "code",
      "execution_count": null,
      "metadata": {
        "id": "5bf70ab3"
      },
      "outputs": [],
      "source": [
        "df['season'].head(50)"
      ],
      "id": "5bf70ab3"
    },
    {
      "cell_type": "code",
      "execution_count": null,
      "metadata": {
        "id": "0c3d3a08"
      },
      "outputs": [],
      "source": [
        "t = df[df['count'==1]]"
      ],
      "id": "0c3d3a08"
    },
    {
      "cell_type": "code",
      "execution_count": null,
      "metadata": {
        "id": "2f09c23b"
      },
      "outputs": [],
      "source": [
        "t = df[df.workingday == 1]"
      ],
      "id": "2f09c23b"
    },
    {
      "cell_type": "code",
      "execution_count": null,
      "metadata": {
        "id": "639603c0"
      },
      "outputs": [],
      "source": [
        "t1 = t.groupby([\"weather\", \"season\"])[\"count\"].mean().plot(kind='bar')"
      ],
      "id": "639603c0"
    },
    {
      "cell_type": "code",
      "execution_count": null,
      "metadata": {
        "id": "8fd0d90b"
      },
      "outputs": [],
      "source": [
        "for i, subgroup in t2:\n",
        "    print(i),\n",
        "    print(subgroup),\n",
        "    print(\"\\n\")"
      ],
      "id": "8fd0d90b"
    },
    {
      "cell_type": "code",
      "execution_count": null,
      "metadata": {
        "id": "af6fb554"
      },
      "outputs": [],
      "source": [
        "t3 = t.groupby([\"season\"])[\"count\"].count().plot.barh()"
      ],
      "id": "af6fb554"
    },
    {
      "cell_type": "code",
      "execution_count": null,
      "metadata": {
        "id": "8f5731c7"
      },
      "outputs": [],
      "source": [
        "df['count'].head()"
      ],
      "id": "8f5731c7"
    },
    {
      "cell_type": "markdown",
      "metadata": {
        "id": "a64ebbe8"
      },
      "source": [
        "# Data Preprocessing and Model Building "
      ],
      "id": "a64ebbe8"
    },
    {
      "cell_type": "code",
      "execution_count": null,
      "metadata": {
        "id": "f83624a8"
      },
      "outputs": [],
      "source": [
        "#Droping the columns which are unnecessary for model building \n",
        "col_drop = ['temp', 'casual', 'registered', 'datetime']\n",
        "df=df.drop(col_drop, axis=1)"
      ],
      "id": "f83624a8"
    },
    {
      "cell_type": "code",
      "execution_count": null,
      "metadata": {
        "id": "4a44a432"
      },
      "outputs": [],
      "source": [
        "#Definning the variable X and y\n",
        "X=df.drop('count', axis=1)\n",
        "y=df.pop('count')"
      ],
      "id": "4a44a432"
    },
    {
      "cell_type": "code",
      "execution_count": null,
      "metadata": {
        "id": "17e09b4f"
      },
      "outputs": [],
      "source": [
        "#Splitting the dataset into train and test\n",
        "X_train, X_test, y_train, y_test = train_test_split(X, y, test_size=0.2, random_state=42)"
      ],
      "id": "17e09b4f"
    },
    {
      "cell_type": "code",
      "execution_count": null,
      "metadata": {
        "id": "13024b4a",
        "outputId": "0b256700-fcbd-47a2-b376-14caf9152e43"
      },
      "outputs": [
        {
          "data": {
            "text/plain": [
              "(8708, 7)"
            ]
          },
          "execution_count": 37,
          "metadata": {},
          "output_type": "execute_result"
        }
      ],
      "source": [
        "X_train.shape"
      ],
      "id": "13024b4a"
    },
    {
      "cell_type": "code",
      "execution_count": null,
      "metadata": {
        "id": "118be621",
        "outputId": "f664dcab-f5d7-485b-936a-64cc9c6f4540"
      },
      "outputs": [
        {
          "data": {
            "text/plain": [
              "(8708,)"
            ]
          },
          "execution_count": 38,
          "metadata": {},
          "output_type": "execute_result"
        }
      ],
      "source": [
        "y_train.shape"
      ],
      "id": "118be621"
    },
    {
      "cell_type": "code",
      "execution_count": null,
      "metadata": {
        "id": "a4a80acc",
        "outputId": "6ebf5748-fe44-48d3-8dfa-59edea26900a"
      },
      "outputs": [
        {
          "data": {
            "text/plain": [
              "(2178, 7)"
            ]
          },
          "execution_count": 39,
          "metadata": {},
          "output_type": "execute_result"
        }
      ],
      "source": [
        "X_test.shape"
      ],
      "id": "a4a80acc"
    },
    {
      "cell_type": "code",
      "execution_count": null,
      "metadata": {
        "id": "ff7af5f6",
        "outputId": "1a1c1683-e4a5-4cc0-e855-1d3e5b13a177"
      },
      "outputs": [
        {
          "data": {
            "text/plain": [
              "(2178,)"
            ]
          },
          "execution_count": 40,
          "metadata": {},
          "output_type": "execute_result"
        }
      ],
      "source": [
        "y_test.shape"
      ],
      "id": "ff7af5f6"
    },
    {
      "cell_type": "code",
      "execution_count": null,
      "metadata": {
        "id": "3e686ba6"
      },
      "outputs": [],
      "source": [
        "#Creating the dummies for categorical variable\n",
        "X_train=pd.get_dummies(X_train, drop_first=True)\n",
        "X_test=pd.get_dummies(X_test, drop_first=True)"
      ],
      "id": "3e686ba6"
    },
    {
      "cell_type": "code",
      "execution_count": null,
      "metadata": {
        "id": "b179fbdf"
      },
      "outputs": [],
      "source": [
        "# Feature Scaling\n",
        "from sklearn.preprocessing import RobustScaler\n",
        "rc=RobustScaler()\n",
        "X_train = rc.fit_transform(X_train)\n",
        "X_test = rc.transform(X_test)"
      ],
      "id": "b179fbdf"
    },
    {
      "cell_type": "markdown",
      "metadata": {
        "id": "d8b3a8f7"
      },
      "source": [
        "# Building Linear Regresion model"
      ],
      "id": "d8b3a8f7"
    },
    {
      "cell_type": "code",
      "execution_count": null,
      "metadata": {
        "id": "74c1a795"
      },
      "outputs": [],
      "source": [
        "lr=LinearRegression()"
      ],
      "id": "74c1a795"
    },
    {
      "cell_type": "code",
      "execution_count": null,
      "metadata": {
        "id": "34f74f49",
        "outputId": "238cbad4-2c64-48b9-9b3b-cfcfac1d18ab"
      },
      "outputs": [
        {
          "data": {
            "text/plain": [
              "LinearRegression()"
            ]
          },
          "execution_count": 46,
          "metadata": {},
          "output_type": "execute_result"
        }
      ],
      "source": [
        "lr.fit(X_train, y_train)"
      ],
      "id": "34f74f49"
    },
    {
      "cell_type": "code",
      "execution_count": null,
      "metadata": {
        "id": "9a131c9c",
        "outputId": "1ffb7a7f-1fcc-4932-e629-d47e10a16840"
      },
      "outputs": [
        {
          "data": {
            "text/plain": [
              "0.27094969465032637"
            ]
          },
          "execution_count": 47,
          "metadata": {},
          "output_type": "execute_result"
        }
      ],
      "source": [
        "lr.score(X_train, y_train)"
      ],
      "id": "9a131c9c"
    },
    {
      "cell_type": "code",
      "execution_count": null,
      "metadata": {
        "id": "b41f7abc"
      },
      "outputs": [],
      "source": [
        "rf=RandomForestClassifier()"
      ],
      "id": "b41f7abc"
    },
    {
      "cell_type": "code",
      "execution_count": null,
      "metadata": {
        "id": "c4e609e5",
        "outputId": "6c5bcf72-5121-4dfd-b22c-8b9864ff2cc5"
      },
      "outputs": [
        {
          "data": {
            "text/plain": [
              "RandomForestClassifier()"
            ]
          },
          "execution_count": 49,
          "metadata": {},
          "output_type": "execute_result"
        }
      ],
      "source": [
        "rf.fit(X_train, y_train)"
      ],
      "id": "c4e609e5"
    },
    {
      "cell_type": "code",
      "execution_count": null,
      "metadata": {
        "id": "d4e1e78d",
        "outputId": "02028a0b-9a19-467e-ab8b-4130b0a7aa6d"
      },
      "outputs": [
        {
          "data": {
            "text/plain": [
              "0.8295819935691319"
            ]
          },
          "execution_count": 50,
          "metadata": {},
          "output_type": "execute_result"
        }
      ],
      "source": [
        "rf.score(X_train, y_train)"
      ],
      "id": "d4e1e78d"
    },
    {
      "cell_type": "markdown",
      "metadata": {
        "id": "3391daad"
      },
      "source": [
        "# Random Forest Classifier"
      ],
      "id": "3391daad"
    },
    {
      "cell_type": "code",
      "execution_count": null,
      "metadata": {
        "id": "82e5dff4"
      },
      "outputs": [],
      "source": [
        "#Fitting the model\n",
        "rf_estimator = RandomForestClassifier(random_state=1)\n",
        "rf_estimator.fit(X_train,y_train)\n",
        "\n",
        "#Calculating different metrics\n",
        "rf_estimator_model_train_perf=model_performance_classification_sklearn(rf_estimator, X_train,y_train)\n",
        "print(\"Training performance:\\n\",rf_estimator_model_train_perf)\n",
        "rf_estimator_model_test_perf=model_performance_classification_sklearn(rf_estimator, X_test,y_test)\n",
        "print(\"Testing performance:\\n\",rf_estimator_model_test_perf)\n",
        "\n",
        "#Creating confusion matrix\n",
        "confusion_matrix_sklearn(rf_estimator,X_test,y_test)"
      ],
      "id": "82e5dff4"
    },
    {
      "cell_type": "markdown",
      "metadata": {
        "id": "abdaeeb9"
      },
      "source": [
        "# Random Forest Classifier Tunning"
      ],
      "id": "abdaeeb9"
    },
    {
      "cell_type": "code",
      "execution_count": null,
      "metadata": {
        "id": "aa25a677"
      },
      "outputs": [],
      "source": [
        "# Choose the type of classifier. \n",
        "rf_tuned = RandomForestClassifier(class_weight={0:0.18,1:0.82},random_state=1,oob_score=True,bootstrap=True)\n",
        "\n",
        "parameters = {  \n",
        "                'max_depth': list(np.arange(5,30,5)) + [None],\n",
        "                'max_features': ['sqrt','log2',None],\n",
        "                'min_samples_leaf': np.arange(1,15,5),\n",
        "                'min_samples_split': np.arange(2, 20, 5),\n",
        "                'n_estimators': np.arange(10,110,10)}\n",
        "\n",
        "\n",
        "# Run the grid search\n",
        "grid_obj = GridSearchCV(rf_tuned, parameters, scoring='recall',cv=5,n_jobs=-1)\n",
        "grid_obj = grid_obj.fit(X_train, y_train)\n",
        "\n",
        "# Set the clf to the best combination of parameters\n",
        "rf_tuned = grid_obj.best_estimator_\n",
        "\n",
        "# Fit the best algorithm to the data. \n",
        "rf_tuned.fit(X_train, y_train)"
      ],
      "id": "aa25a677"
    },
    {
      "cell_type": "markdown",
      "metadata": {
        "id": "2672b415"
      },
      "source": [
        "# Bagging Clasifier"
      ],
      "id": "2672b415"
    },
    {
      "cell_type": "code",
      "execution_count": null,
      "metadata": {
        "id": "b163fc17"
      },
      "outputs": [],
      "source": [
        "#Fitting the model\n",
        "bagging_classifier = BaggingClassifier(random_state=1)\n",
        "bagging_classifier.fit(X_train,y_train)\n",
        "\n",
        "#Calculating different metrics\n",
        "bagging_classifier_model_train_perf=model_performance_classification_sklearn(bagging_classifier, X_train,y_train)\n",
        "print(\"Training performance:\\n\",bagging_classifier_model_train_perf)\n",
        "bagging_classifier_model_test_perf=model_performance_classification_sklearn(bagging_classifier, X_test,y_test)\n",
        "print(\"Testing performance:\\n\",bagging_classifier_model_test_perf)\n",
        "\n",
        "#Creating confusion matrix\n",
        "confusion_matrix_sklearn(bagging_classifier,X_test,y_test)"
      ],
      "id": "b163fc17"
    },
    {
      "cell_type": "markdown",
      "metadata": {
        "id": "1dedc676"
      },
      "source": [
        "Bagging Classifier Tunning"
      ],
      "id": "1dedc676"
    },
    {
      "cell_type": "markdown",
      "metadata": {
        "id": "7ed4b2c2"
      },
      "source": [
        "# Choose the type of classifier. \n",
        "bagging_estimator_tuned = BaggingClassifier(random_state=1)\n",
        "\n",
        "# Grid of parameters to choose from\n",
        "parameters = {'max_samples': [0.7,0.8,0.9,1], \n",
        "              'max_features': [0.7,0.8,0.9,1],\n",
        "              'n_estimators' : [10,20,30,40,50],\n",
        "             }\n",
        "\n",
        "# Type of scoring used to compare parameter combinations\n",
        "acc_scorer = metrics.make_scorer(metrics.recall_score)\n",
        "\n",
        "# Run the grid search\n",
        "grid_obj = GridSearchCV(bagging_estimator_tuned, parameters, scoring=acc_scorer,cv=5)\n",
        "grid_obj = grid_obj.fit(X_train, y_train)\n",
        "\n",
        "# Set the clf to the best combination of parameters\n",
        "bagging_estimator_tuned = grid_obj.best_estimator_\n",
        "\n",
        "# Fit the best algorithm to the data.\n",
        "bagging_estimator_tuned.fit(X_train, y_train)"
      ],
      "id": "7ed4b2c2"
    },
    {
      "cell_type": "code",
      "execution_count": null,
      "metadata": {
        "id": "a40e18f2"
      },
      "outputs": [],
      "source": [
        "Ada Boost Classifier"
      ],
      "id": "a40e18f2"
    },
    {
      "cell_type": "code",
      "execution_count": null,
      "metadata": {
        "id": "db8fdcb4"
      },
      "outputs": [],
      "source": [
        "#Fitting the model\n",
        "ab_classifier = AdaBoostClassifier(random_state=1)\n",
        "ab_classifier.fit(X_train,y_train)\n",
        "\n",
        "#Calculating different metrics\n",
        "ab_classifier_model_train_perf=model_performance_classification_sklearn(ab_classifier, X_train,y_train)\n",
        "print(\"Training performance:\\n\",ab_classifier_model_train_perf)\n",
        "ab_classifier_model_test_perf=model_performance_classification_sklearn(ab_classifier, X_test,y_test)\n",
        "print(\"Testing performance:\\n\",ab_classifier_model_test_perf)\n",
        "\n",
        "#Creating confusion matrix\n",
        "confusion_matrix_sklearn(ab_classifier,X_test,y_test)"
      ],
      "id": "db8fdcb4"
    },
    {
      "cell_type": "code",
      "execution_count": null,
      "metadata": {
        "id": "7ddbd379"
      },
      "outputs": [],
      "source": [
        "#Fitting the model\n",
        "xgb_classifier = XGBClassifier(random_state=1, eval_metric= \"error\")\n",
        "xgb_classifier.fit(X_train,y_train)\n",
        "\n",
        "#Calculating different metrics\n",
        "xgb_classifier_model_train_perf=model_performance_classification_sklearn(xgb_classifier, X_train,y_train)\n",
        "print(\"Training performance:\\n\",xgb_classifier_model_train_perf)\n",
        "xgb_classifier_model_test_perf=model_performance_classification_sklearn(xgb_classifier, X_test,y_test)\n",
        "print(\"Testing performance:\\n\",xgb_classifier_model_test_perf)\n",
        "\n",
        "#Creating confusion matrix\n",
        "confusion_matrix_sklearn(xgb_classifier,X_test,y_test)"
      ],
      "id": "7ddbd379"
    },
    {
      "cell_type": "markdown",
      "metadata": {
        "id": "687968f5"
      },
      "source": [
        "# XGB Tuned"
      ],
      "id": "687968f5"
    },
    {
      "cell_type": "code",
      "execution_count": null,
      "metadata": {
        "id": "bb882025"
      },
      "outputs": [],
      "source": [
        "# Choose the type of classifier. \n",
        "xgb_tuned = XGBClassifier(random_state=1, eval_metric='logloss')\n",
        "\n",
        "# Grid of parameters to choose from\n",
        "parameters = {\n",
        "    \"n_estimators\": np.arange(10,100,20),\n",
        "    \"scale_pos_weight\":[0,1,2,5],\n",
        "    \"subsample\":[0.5,0.7,0.9,1],\n",
        "    \"learning_rate\":[0.01,0.1,0.2,0.05],\n",
        "    \"gamma\":[0,1,3],\n",
        "    \"colsample_bytree\":[0.5,0.7,0.9,1],\n",
        "    \"colsample_bylevel\":[0.5,0.7,0.9,1]\n",
        "}\n",
        "\n",
        "# Type of scoring used to compare parameter combinations\n",
        "acc_scorer = metrics.make_scorer(metrics.recall_score)\n",
        "\n",
        "# Run the grid search\n",
        "grid_obj = GridSearchCV(xgb_tuned, parameters,scoring=acc_scorer,cv=5)\n",
        "grid_obj = grid_obj.fit(X_train, y_train)\n",
        "\n",
        "# Set the clf to the best combination of parameters\n",
        "xgb_tuned = grid_obj.best_estimator_\n",
        "\n",
        "# Fit the best algorithm to the data.\n",
        "xgb_tuned.fit(X_train, y_train)"
      ],
      "id": "bb882025"
    },
    {
      "cell_type": "code",
      "execution_count": null,
      "metadata": {
        "id": "e759fdcc"
      },
      "outputs": [],
      "source": [
        "# training performance comparison\n",
        "\n",
        "models_train_comp_df = pd.concat(\n",
        "    [d_tree_model_train_perf.T,pruned_dtree_model_train_perf.T, dtree_estimator_model_train_perf.T, rf_estimator_model_train_perf.T,\n",
        "    rf_tuned_model_train_perf.T,bagging_classifier_model_train_perf.T,bagging_estimator_tuned_model_train_perf.T,ab_classifier_model_train_perf.T,\n",
        "     abc_tuned_model_train_perf.T,gb_classifier_model_train_perf.T,gbc_tuned_model_train_perf.T,xgb_classifier_model_train_perf.T,\n",
        "     xgb_tuned_model_train_perf.T, stacking_classifier_model_train_perf.T],\n",
        "    axis=1,\n",
        ")\n",
        "models_train_comp_df.columns = [\n",
        "    \"Decision Tree\",\n",
        "    \"Prunned Decision Tree\",\n",
        "    \"Decision Tree Estimator\",\n",
        "    \"Random Forest Estimator\",\n",
        "    \"Random Forest Tuned\",\n",
        "    \"Bagging Classifier\",\n",
        "    \"Bagging Estimator Tuned\",\n",
        "    \"Adaboost Classifier\",\n",
        "    \"Adaboost Classifier Tuned\",\n",
        "     \"Gradient Boost Classifier\",\n",
        "    \"Gradient Boost Classifier Tuned\",\n",
        "     \"XGBoost Classifier\",\n",
        "    \"XGBoost Classifier Tuned\",\"Stacking Classifier\"]\n",
        "print(\"Training performance comparison:\")\n",
        "models_train_comp_df"
      ],
      "id": "e759fdcc"
    },
    {
      "cell_type": "code",
      "execution_count": null,
      "metadata": {
        "id": "b907a95e"
      },
      "outputs": [],
      "source": [
        "feature_names = X_train.columns\n",
        "importances = xgb_tuned.feature_importances_\n",
        "indices = np.argsort(importances)\n",
        "\n",
        "plt.figure(figsize=(12,12))\n",
        "plt.title('Feature Importances')\n",
        "plt.barh(range(len(indices)), importances[indices], color='violet', align='center')\n",
        "plt.yticks(range(len(indices)), [feature_names[i] for i in indices])\n",
        "plt.xlabel('Relative Importance')\n",
        "plt.show()"
      ],
      "id": "b907a95e"
    }
  ],
  "metadata": {
    "accelerator": "GPU",
    "colab": {
      "name": "Spiced Project Week 3 Bike Sharing.ipynb",
      "provenance": [],
      "machine_shape": "hm"
    },
    "kernelspec": {
      "display_name": "Python 3 (ipykernel)",
      "language": "python",
      "name": "python3"
    },
    "language_info": {
      "codemirror_mode": {
        "name": "ipython",
        "version": 3
      },
      "file_extension": ".py",
      "mimetype": "text/x-python",
      "name": "python",
      "nbconvert_exporter": "python",
      "pygments_lexer": "ipython3",
      "version": "3.9.7"
    }
  },
  "nbformat": 4,
  "nbformat_minor": 5
}